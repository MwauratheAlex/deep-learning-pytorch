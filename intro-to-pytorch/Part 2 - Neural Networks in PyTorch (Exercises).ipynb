{
  "nbformat": 4,
  "nbformat_minor": 0,
  "metadata": {
    "kernelspec": {
      "display_name": "Python 3",
      "language": "python",
      "name": "python3"
    },
    "language_info": {
      "codemirror_mode": {
        "name": "ipython",
        "version": 3
      },
      "file_extension": ".py",
      "mimetype": "text/x-python",
      "name": "python",
      "nbconvert_exporter": "python",
      "pygments_lexer": "ipython3",
      "version": "3.6.3"
    },
    "colab": {
      "name": "Part 2 - Neural Networks in PyTorch (Exercises).ipynb",
      "provenance": []
    }
  },
  "cells": [
    {
      "cell_type": "markdown",
      "metadata": {
        "id": "rzqhUR8aOUhp"
      },
      "source": [
        "# Neural networks with PyTorch\n",
        "\n",
        "Deep learning networks tend to be massive with dozens or hundreds of layers, that's where the term \"deep\" comes from. You can build one of these deep networks using only weight matrices as we did in the previous notebook, but in generally it's very cumbersome and difficult to implement. PyTorch has a nice module `nn` that provides a nice way to efficiently build large neural networks."
      ]
    },
    {
      "cell_type": "code",
      "metadata": {
        "id": "Jn--qfgAOUht"
      },
      "source": [
        "# Import necessary packages\n",
        "\n",
        "%matplotlib inline\n",
        "%config InlineBackend.figure_format = 'retina'\n",
        "\n",
        "import numpy as np\n",
        "import torch\n",
        "\n",
        "import helper\n",
        "\n",
        "import matplotlib.pyplot as plt"
      ],
      "execution_count": 5,
      "outputs": []
    },
    {
      "cell_type": "markdown",
      "metadata": {
        "id": "gxZUN3DEOUhu"
      },
      "source": [
        "\n",
        "Now we're going to build a larger network that can solve a (formerly) difficult problem, identifying text in an image. Here we'll use the MNIST dataset which consists of greyscale handwritten digits. Each image is 28x28 pixels, you can see a sample below\n",
        "\n",
        "<img src='https://github.com/MwauratheAlex/deep-learning-pytorch/blob/main/intro-to-pytorch/assets/mnist.png?raw=1'>\n",
        "\n",
        "Our goal is to build a neural network that can take one of these images and predict the digit in the image.\n",
        "\n",
        "First up, we need to get our dataset. This is provided through the `torchvision` package. The code below will download the MNIST dataset, then create training and test datasets for us. Don't worry too much about the details here, you'll learn more about this later."
      ]
    },
    {
      "cell_type": "code",
      "metadata": {
        "id": "sdkOsx1yOUhu"
      },
      "source": [
        "### Run this cell\n",
        "\n",
        "from torchvision import datasets, transforms\n",
        "\n",
        "# Define a transform to normalize the data\n",
        "transform = transforms.Compose([transforms.ToTensor(),\n",
        "                              transforms.Normalize((0.5,), (0.5,)),\n",
        "                              ])\n",
        "\n",
        "# Download and load the training data\n",
        "trainset = datasets.MNIST('~/.pytorch/MNIST_data/', download=True, train=True, transform=transform)\n",
        "trainloader = torch.utils.data.DataLoader(trainset, batch_size=64, shuffle=True)"
      ],
      "execution_count": 6,
      "outputs": []
    },
    {
      "cell_type": "markdown",
      "metadata": {
        "id": "cF40JYNfOUhv"
      },
      "source": [
        "We have the training data loaded into `trainloader` and we make that an iterator with `iter(trainloader)`. Later, we'll use this to loop through the dataset for training, like\n",
        "\n",
        "```python\n",
        "for image, label in trainloader:\n",
        "    ## do things with images and labels\n",
        "```\n",
        "\n",
        "You'll notice I created the `trainloader` with a batch size of 64, and `shuffle=True`. The batch size is the number of images we get in one iteration from the data loader and pass through our network, often called a *batch*. And `shuffle=True` tells it to shuffle the dataset every time we start going through the data loader again. But here I'm just grabbing the first batch so we can check out the data. We can see below that `images` is just a tensor with size `(64, 1, 28, 28)`. So, 64 images per batch, 1 color channel, and 28x28 images."
      ]
    },
    {
      "cell_type": "code",
      "metadata": {
        "id": "iPrFDT7uOUhw",
        "outputId": "8cd10594-6be4-4559-8335-957a98788704",
        "colab": {
          "base_uri": "https://localhost:8080/"
        }
      },
      "source": [
        "dataiter = iter(trainloader)\n",
        "images, labels = dataiter.next()\n",
        "print(type(images))\n",
        "print(images.shape)\n",
        "print(labels.shape)"
      ],
      "execution_count": 7,
      "outputs": [
        {
          "output_type": "stream",
          "text": [
            "<class 'torch.Tensor'>\n",
            "torch.Size([64, 1, 28, 28])\n",
            "torch.Size([64])\n"
          ],
          "name": "stdout"
        }
      ]
    },
    {
      "cell_type": "markdown",
      "metadata": {
        "id": "pg8EHHOUOUhw"
      },
      "source": [
        "This is what one of the images looks like. "
      ]
    },
    {
      "cell_type": "code",
      "metadata": {
        "id": "80T8vPLaOUhx",
        "outputId": "ae254c43-6c68-43e2-c6ad-b00c78db7ecf",
        "colab": {
          "base_uri": "https://localhost:8080/",
          "height": 265
        }
      },
      "source": [
        "plt.imshow(images[1].numpy().squeeze(), cmap='Greys_r');"
      ],
      "execution_count": 8,
      "outputs": [
        {
          "output_type": "display_data",
          "data": {
            "image/png": "[encoded data removed]",
            "text/plain": [
              "<Figure size 432x288 with 1 Axes>"
            ]
          },
          "metadata": {
            "tags": [],
            "image/png": {
              "width": 251,
              "height": 248
            },
            "needs_background": "light"
          }
        }
      ]
    },
    {
      "cell_type": "markdown",
      "metadata": {
        "id": "VyfhQ8ajOUhx"
      },
      "source": [
        "First, let's try to build a simple network for this dataset using weight matrices and matrix multiplications. Then, we'll see how to do it using PyTorch's `nn` module which provides a much more convenient and powerful method for defining network architectures.\n",
        "\n",
        "The networks you've seen so far are called *fully-connected* or *dense* networks. Each unit in one layer is connected to each unit in the next layer. In fully-connected networks, the input to each layer must be a one-dimensional vector (which can be stacked into a 2D tensor as a batch of multiple examples). However, our images are 28x28 2D tensors, so we need to convert them into 1D vectors. Thinking about sizes, we need to convert the batch of images with shape `(64, 1, 28, 28)` to a have a shape of `(64, 784)`, 784 is 28 times 28. This is typically called *flattening*, we flattened the 2D images into 1D vectors.\n",
        "\n",
        "Previously you built a network with one output unit. Here we need 10 output units, one for each digit. We want our network to predict the digit shown in an image, so what we'll do is calculate probabilities that the image is of any one digit or class. This ends up being a discrete probability distribution over the classes (digits) that tells us the most likely class for the image. That means we need 10 output units for the 10 classes (digits). We'll see how to convert the network output into a probability distribution next.\n",
        "\n",
        "> **Exercise:** Flatten the batch of images `images`. Then build a multi-layer network with 784 input units, 256 hidden units, and 10 output units using random tensors for the weights and biases. For now, use a sigmoid activation for the hidden layer. Leave the output layer without an activation, we'll add one that gives us a probability distribution next."
      ]
    },
    {
      "cell_type": "code",
      "metadata": {
        "id": "FFJnF0f0OUhy",
        "outputId": "915e291f-0b84-41e7-cddd-1fdad864e9e3",
        "colab": {
          "base_uri": "https://localhost:8080/"
        }
      },
      "source": [
        "## Your solution\n",
        "def sigmoid(x):\n",
        "    return 1/(1+torch.exp(-x))\n",
        "\n",
        "\n",
        "inputs = images.view(images.shape[0],-1)\n",
        "targets = labels\n",
        "\n",
        "\n",
        "w1 = torch.randn(784,256)\n",
        "b1 = torch.randn(256)\n",
        "\n",
        "w2 = torch.randn(256,10)\n",
        "b2 = torch.randn(10)\n",
        "\n",
        "\n",
        "h = sigmoid(torch.mm(inputs,w1)+b1)\n",
        "\n",
        "\n",
        "out = torch.mm(h,w2)+b2# output of your network, should have shape (64,10)\n",
        "print(out)"
      ],
      "execution_count": 10,
      "outputs": [
        {
          "output_type": "stream",
          "text": [
            "tensor([[ 1.7473e+01, -1.0956e+01, -2.0677e+01, -2.3440e+00, -9.6530e+00,\n",
            "         -1.0586e-01,  2.7529e+00,  5.9628e+00,  1.4839e+01, -3.0329e+00],\n",
            "        [ 6.1530e+00, -2.2643e+01, -1.5549e+01,  2.3591e+00, -1.8539e+01,\n",
            "         -2.8502e+00,  4.0699e+00,  1.2218e+00,  1.3665e+01, -2.6576e+00],\n",
            "        [ 1.4520e+01, -9.4292e+00, -1.5007e+01, -1.6500e+00, -1.9498e+01,\n",
            "         -3.9723e+00,  6.4041e+00,  9.4154e+00,  1.8998e+01, -4.7260e+00],\n",
            "        [ 1.2781e+01, -1.6951e+01, -2.2322e+01, -3.2339e+00, -2.3787e+00,\n",
            "         -5.3921e+00,  7.2795e+00,  7.1550e+00,  1.7759e+01, -1.3929e+01],\n",
            "        [ 1.0880e+01, -1.0183e+01, -2.3381e+01,  7.7316e-01, -1.4856e+01,\n",
            "         -1.5746e+01,  1.2960e+01,  8.9024e+00,  2.4644e+01, -1.2446e+00],\n",
            "        [ 5.8784e+00, -1.2728e+01, -2.7488e+01, -1.1128e+00, -2.0299e+01,\n",
            "         -1.9720e+00,  7.5898e+00, -5.8042e+00,  1.9696e+01, -7.1944e+00],\n",
            "        [ 1.2874e+01, -1.8378e+01, -1.6130e+01, -6.3264e+00, -1.8474e+01,\n",
            "         -3.0495e+00,  6.0623e+00,  5.7947e+00,  1.7402e+01,  1.1029e+00],\n",
            "        [ 1.6775e+01, -1.0249e+01, -1.6270e+01,  1.0271e+01, -2.1521e+01,\n",
            "         -6.0637e+00,  8.1071e+00, -5.5518e+00,  1.3394e+01, -4.3354e+00],\n",
            "        [ 1.2555e+01, -1.3101e+01, -2.0637e+01,  7.6846e+00, -9.0727e+00,\n",
            "         -3.3058e+00,  1.0811e+01, -4.1956e+00,  1.7578e+01, -6.0540e-01],\n",
            "        [ 8.2892e+00, -1.3600e+01, -2.1986e+01, -2.7643e+00, -9.9548e+00,\n",
            "         -1.2487e+01,  8.3645e+00,  5.3105e+00,  2.5587e+01,  4.0672e+00],\n",
            "        [ 1.4002e+01, -6.5460e+00, -2.2896e+01, -4.1098e+00, -1.0002e+01,\n",
            "         -4.5615e+00,  2.6116e+00,  1.3377e+00,  1.8710e+01,  4.0246e+00],\n",
            "        [ 5.7720e+00, -1.4085e+01, -1.5809e+01, -1.5357e+00, -1.9049e+01,\n",
            "         -9.9381e-01,  1.3458e+00, -1.1633e+01,  1.0405e+01, -4.2936e-02],\n",
            "        [ 9.8126e+00, -5.6790e+00, -1.7492e+01,  6.9753e+00, -2.1216e+01,\n",
            "         -7.5667e+00,  1.2740e+01, -7.9593e+00,  9.2993e+00, -3.0776e+00],\n",
            "        [ 1.8190e+01, -1.0822e+01, -1.5439e+01, -1.3498e+01, -1.3480e+01,\n",
            "         -7.5337e+00,  8.0824e+00,  6.0573e+00,  2.2893e+01,  1.7234e+00],\n",
            "        [ 1.5509e+01, -1.5512e+01, -1.0849e+01, -4.0739e+00, -1.4566e+01,\n",
            "         -5.7746e+00,  3.2856e+00,  2.2282e+00,  1.4309e+01, -1.7554e+00],\n",
            "        [ 9.9762e+00, -1.7952e+01, -1.6546e+01, -1.0358e-01, -1.8083e+01,\n",
            "         -4.3289e+00,  5.3135e+00, -9.0520e-01,  4.9425e+00, -9.4811e-01],\n",
            "        [ 1.0237e+01, -8.4023e+00, -1.5365e+01, -5.8441e-01, -1.4593e+01,\n",
            "         -4.8970e+00,  7.2619e+00, -6.2397e+00,  7.3732e+00,  1.7330e+00],\n",
            "        [ 7.9347e+00, -5.9932e+00, -1.9885e+01,  7.5266e+00, -2.6876e+00,\n",
            "         -2.3927e+00,  2.4043e+01,  1.6921e+00,  1.9588e+01, -9.8502e-01],\n",
            "        [ 3.7987e+00, -5.4817e+00, -1.5057e+01, -5.8726e+00, -1.4764e+01,\n",
            "         -2.4122e+00,  9.7543e+00,  5.2283e+00,  5.9889e+00, -1.7407e+00],\n",
            "        [ 1.5181e+01, -6.4016e+00, -1.2134e+01, -1.8104e-01, -1.1392e+01,\n",
            "         -8.0299e+00,  1.2633e+00,  5.5125e+00,  1.1669e+01, -3.6137e+00],\n",
            "        [ 8.9752e+00, -1.4187e+01, -2.1520e+01, -1.1483e+01, -9.1707e+00,\n",
            "          2.1123e+00,  6.4596e+00, -2.7223e+00,  3.9960e+00, -5.3031e+00],\n",
            "        [ 7.5728e+00, -1.1736e+01, -1.9311e+01,  1.2185e+00, -1.7154e+01,\n",
            "         -1.2467e+01,  1.1891e+01,  3.1754e-01,  1.2720e+01,  2.8500e+00],\n",
            "        [ 1.8241e+01, -1.4205e+01, -2.0740e+01, -4.3376e+00, -9.3293e+00,\n",
            "         -2.3557e+00,  6.9896e+00,  9.3853e+00,  2.2634e+01, -9.6727e+00],\n",
            "        [ 1.1294e+01, -7.4860e+00, -2.2542e+01, -3.1255e+00, -7.7889e+00,\n",
            "         -3.0972e-01,  1.5375e+01, -7.2034e-01,  6.2685e+00,  1.1896e+00],\n",
            "        [ 1.2968e+01, -1.2962e+01, -2.4787e+01,  4.2348e+00, -7.7091e+00,\n",
            "          2.7123e+00,  1.7007e+01,  9.8890e-01,  1.1665e+01, -3.8451e+00],\n",
            "        [ 1.7253e+01, -1.7356e+01, -2.1242e+01, -1.0659e+00, -9.5466e+00,\n",
            "         -3.5187e+00, -1.5602e+00,  5.3527e+00,  1.3136e+01, -5.3068e+00],\n",
            "        [ 1.8412e+00, -2.3496e+01, -1.3421e+01, -6.9534e+00, -1.2917e+01,\n",
            "         -6.0758e+00,  2.6917e+00,  6.0813e+00,  6.2204e+00, -3.6606e+00],\n",
            "        [ 1.8093e+01, -9.3730e+00, -1.1979e+01, -8.1562e+00, -8.2721e+00,\n",
            "         -3.5747e+00,  1.8212e+01, -3.4262e+00, -1.9993e+00, -4.9184e+00],\n",
            "        [ 1.3951e+01, -9.6658e+00, -2.3180e+01,  2.3027e+00, -4.6442e+00,\n",
            "         -6.2458e+00,  1.7632e+01,  7.0928e+00,  2.1415e+01, -4.2206e+00],\n",
            "        [ 1.1707e+01, -9.8363e+00, -5.1167e+00,  8.0484e+00, -1.4810e+01,\n",
            "         -4.8762e+00,  5.3192e+00,  3.4647e+00,  9.4611e+00,  3.7132e+00],\n",
            "        [ 1.3281e+01, -2.0351e+01, -1.8044e+01,  2.8382e+00, -1.5966e+01,\n",
            "         -1.0019e+01,  3.8215e+00,  7.1172e+00,  1.2622e+01, -3.5223e+00],\n",
            "        [ 2.0717e+01, -8.7771e+00, -1.2916e+01,  4.9458e-01, -1.8597e+01,\n",
            "         -6.6136e+00,  1.3816e+00, -5.3540e+00,  1.6343e+01,  1.2102e+00],\n",
            "        [ 7.3579e+00, -2.6151e+01, -1.6837e+01, -6.8741e+00, -2.4350e+01,\n",
            "         -9.6918e+00,  4.2832e+00, -2.9070e+00,  7.8462e+00, -1.0946e+00],\n",
            "        [ 1.3170e+01, -2.9093e+00, -1.7380e+01,  3.6857e+00, -5.8577e+00,\n",
            "          9.8871e-01,  6.0911e+00,  1.0189e+00,  2.1193e+01, -1.2089e+01],\n",
            "        [ 2.3751e+01, -6.9893e+00, -1.9005e+01, -3.1402e+00,  6.1432e+00,\n",
            "         -1.1176e+01,  8.2260e+00,  3.4680e+00,  1.6215e+01, -6.5146e+00],\n",
            "        [ 1.5582e+01, -8.2715e+00, -1.2559e+01, -1.0292e+00, -1.1463e+01,\n",
            "         -5.8033e+00, -1.1593e+01,  8.4143e+00,  2.4957e+01, -1.6554e+00],\n",
            "        [ 8.6733e+00, -6.8557e+00, -2.1626e+01, -3.1641e-01, -1.2512e+01,\n",
            "         -2.7284e+00,  8.9630e+00,  3.5121e+00,  1.5400e+01,  2.7948e+00],\n",
            "        [ 1.1940e+01, -1.1428e+01, -1.4550e+01, -1.0502e+00, -1.4413e+00,\n",
            "         -2.2246e+00,  4.1190e+00,  4.4236e+00,  5.6038e+00, -1.3452e+01],\n",
            "        [ 7.5565e+00, -1.0367e+01, -2.3667e+01,  7.9046e-01, -9.4503e+00,\n",
            "         -5.1613e+00,  7.1335e+00, -1.2480e+01,  8.2052e+00, -6.6590e+00],\n",
            "        [ 1.5477e+01, -1.1337e+01, -1.9222e+01, -9.0280e-01, -2.0267e+01,\n",
            "         -5.1847e+00,  9.1076e+00, -5.6161e-01,  1.4810e+01, -2.2045e+00],\n",
            "        [ 8.8194e+00, -8.1902e+00, -2.3663e+01,  4.1190e+00, -6.2855e+00,\n",
            "         -6.6083e+00,  2.2465e+00, -6.6711e+00,  1.3178e+01, -8.3313e+00],\n",
            "        [ 1.7388e+01, -1.3004e+01, -1.2249e+01,  7.2111e+00, -9.7375e+00,\n",
            "         -2.0179e+00,  1.2447e+01, -7.9459e-01,  1.9254e+00,  4.1406e+00],\n",
            "        [ 1.7454e+01, -1.0020e+01, -1.4275e+01,  3.3296e+00, -1.1802e+01,\n",
            "         -1.2061e+01,  7.2472e+00,  4.0210e-01,  1.8575e+01,  1.2236e+00],\n",
            "        [ 1.1634e+01, -4.4807e+00, -1.5425e+01, -1.6266e+00, -1.6960e+01,\n",
            "          3.1377e+00,  1.0728e+01,  2.6055e+00,  5.7300e+00,  4.9669e-01],\n",
            "        [ 6.7291e+00, -4.2609e+00, -1.8008e+01, -5.1317e+00, -3.3368e+00,\n",
            "         -5.6511e+00,  1.2380e+01,  4.7490e+00,  1.1600e+01, -8.1517e+00],\n",
            "        [ 1.0653e+01, -1.5218e+01, -1.6597e+01,  4.2938e+00, -2.4286e+01,\n",
            "         -3.7489e+00,  8.4137e+00,  1.3639e+00,  1.4601e+01,  1.6000e+00],\n",
            "        [ 1.6113e+01, -7.6458e+00, -2.6663e+01,  3.3352e+00, -7.6192e+00,\n",
            "         -9.9106e+00,  1.4032e+01,  1.0048e+01,  2.5550e+01, -3.4813e+00],\n",
            "        [ 1.1684e+01,  1.8913e-01, -2.3686e+01,  1.1653e+00, -5.3639e-01,\n",
            "         -5.3876e+00, -5.1440e+00,  1.8547e+00,  1.1851e+01, -5.9021e-01],\n",
            "        [ 8.3843e+00, -1.4536e+01, -2.2310e+01,  6.4694e+00, -9.3569e+00,\n",
            "         -4.4355e+00,  1.7019e+01,  9.5302e-01,  1.5784e+01, -7.2351e+00],\n",
            "        [ 1.0920e+01, -5.7294e+00, -2.6093e+01,  1.4457e+01, -1.2284e+01,\n",
            "         -5.3757e+00,  1.0875e+01,  6.5573e+00,  1.9969e+01, -9.6145e+00],\n",
            "        [ 1.8935e+01, -6.9875e+00, -1.4627e+01,  1.2440e+01, -1.0873e+01,\n",
            "         -7.3613e+00,  9.1337e+00, -4.2400e+00,  1.1473e+01, -4.7941e+00],\n",
            "        [ 8.0376e+00, -9.5410e+00, -1.3905e+01,  1.3072e+00, -2.9135e+01,\n",
            "          2.4214e+00, -2.2789e+00,  8.8350e+00,  2.1263e+01, -6.1825e+00],\n",
            "        [ 2.1300e+01, -7.7045e+00, -1.5818e+01,  1.3469e+00, -5.5831e+00,\n",
            "         -3.9722e+00, -1.4313e+01,  1.5724e+01,  1.5376e+01, -6.4108e+00],\n",
            "        [ 1.8457e+01, -2.9286e+00, -1.5689e+01,  8.9571e-03, -1.1994e+01,\n",
            "         -8.2243e+00,  1.1855e+01,  2.4303e+00,  1.9637e+01,  3.4946e+00],\n",
            "        [ 1.1832e+01, -1.0370e+01, -2.1928e+01,  3.0532e+00, -1.7234e+01,\n",
            "         -1.2734e+01,  9.2017e+00,  3.9018e+00,  1.7602e+01, -3.7463e+00],\n",
            "        [ 4.5086e+00, -7.7916e+00, -8.4763e+00,  3.8728e+00, -1.5002e+01,\n",
            "         -2.6343e+00,  7.3851e-01, -2.5697e+00,  1.7783e+01, -5.8555e+00],\n",
            "        [ 1.2310e+01, -1.2913e+01, -1.8650e+01,  6.0162e+00, -5.9897e+00,\n",
            "         -2.7279e+00,  6.7352e+00, -4.3791e+00,  1.8646e+01, -6.1931e+00],\n",
            "        [ 1.9024e+01, -9.5759e+00, -1.9970e+01,  2.1350e+00, -6.1580e+00,\n",
            "         -7.7715e+00,  9.1435e+00, -2.9223e+00,  5.8142e+00, -1.4354e+01],\n",
            "        [ 6.0315e+00, -1.0956e+01, -2.6522e+01,  5.6671e+00, -8.7806e+00,\n",
            "         -4.8986e+00,  2.2157e+00,  7.8754e+00,  1.3970e+01, -1.0249e+01],\n",
            "        [ 1.8117e+01, -1.1687e+00, -1.4764e+01, -7.2292e+00, -1.0551e+01,\n",
            "         -6.4040e-01,  8.7592e+00, -1.0976e-01,  1.6842e+00,  3.7728e+00],\n",
            "        [ 8.0356e+00, -6.1410e+00, -1.3210e+01,  5.2005e+00, -5.1288e+00,\n",
            "          1.0913e-01,  2.4238e+00,  7.8034e+00,  1.3234e+01,  8.0531e-01],\n",
            "        [ 1.3278e+01, -1.2101e+01, -1.5405e+01, -1.8027e+00, -1.7822e+01,\n",
            "         -8.6491e+00,  3.4585e+00, -5.3002e-01,  1.4103e+01, -9.1834e-01],\n",
            "        [ 1.9207e+01, -5.2333e+00, -1.6880e+01, -5.4864e+00, -9.0376e+00,\n",
            "         -1.2705e+01,  5.1636e+00,  4.3121e+00,  1.8884e+01, -3.3389e+00],\n",
            "        [ 1.5558e+01, -1.3743e+01, -3.1875e+01, -2.3318e+00, -1.4804e+01,\n",
            "         -1.1931e+01,  1.0513e+01, -1.9817e+00,  1.7492e+01, -4.0230e+00]])\n"
          ],
          "name": "stdout"
        }
      ]
    },
    {
      "cell_type": "markdown",
      "metadata": {
        "id": "vsaMc3VLOUhz"
      },
      "source": [
        "Now we have 10 outputs for our network. We want to pass in an image to our network and get out a probability distribution over the classes that tells us the likely class(es) the image belongs to. Something that looks like this:\n",
        "<img src='https://github.com/MwauratheAlex/deep-learning-pytorch/blob/main/intro-to-pytorch/assets/image_distribution.png?raw=1' width=500px>\n",
        "\n",
        "Here we see that the probability for each class is roughly the same. This is representing an untrained network, it hasn't seen any data yet so it just returns a uniform distribution with equal probabilities for each class.\n",
        "\n",
        "To calculate this probability distribution, we often use the [**softmax** function](https://en.wikipedia.org/wiki/Softmax_function). Mathematically this looks like\n",
        "\n",
        "$$\n",
        "\\Large \\sigma(x_i) = \\cfrac{e^{x_i}}{\\sum_k^K{e^{x_k}}}\n",
        "$$\n",
        "\n",
        "What this does is squish each input $x_i$ between 0 and 1 and normalizes the values to give you a proper probability distribution where the probabilites sum up to one.\n",
        "\n",
        "> **Exercise:** Implement a function `softmax` that performs the softmax calculation and returns probability distributions for each example in the batch. Note that you'll need to pay attention to the shapes when doing this. If you have a tensor `a` with shape `(64, 10)` and a tensor `b` with shape `(64,)`, doing `a/b` will give you an error because PyTorch will try to do the division across the columns (called broadcasting) but you'll get a size mismatch. The way to think about this is for each of the 64 examples, you only want to divide by one value, the sum in the denominator. So you need `b` to have a shape of `(64, 1)`. This way PyTorch will divide the 10 values in each row of `a` by the one value in each row of `b`. Pay attention to how you take the sum as well. You'll need to define the `dim` keyword in `torch.sum`. Setting `dim=0` takes the sum across the rows while `dim=1` takes the sum across the columns."
      ]
    },
    {
      "cell_type": "code",
      "metadata": {
        "id": "BRw_-O1WOUhz",
        "outputId": "b4320f4b-9405-4ab3-a039-986214573192",
        "colab": {
          "base_uri": "https://localhost:8080/"
        }
      },
      "source": [
        "\n",
        "def softmax(x):\n",
        "    ## TODO: Implement the softmax function here\n",
        "    #for i in range(x.shape[0]):\n",
        "        #exp_sum = torch.sum(torch.exp(x[i]))\n",
        "        #for j in range(x[i].shape[0]):\n",
        "            #x[i][j] = torch.exp(x[i][j]) / exp_sum\n",
        "          \n",
        "    return torch.exp(x)/torch.sum(torch.exp(x),dim=1).view(-1,1)\n",
        "    \n",
        "# Here, out should be the output of the network in the previous excercise with shape (64,10)\n",
        "probabilities = softmax(out)\n",
        "# Does it have the right shape? Should be (64, 10)\n",
        "print(probabilities.shape)\n",
        "# Does it sum to 1?\n",
        "print(probabilities.sum(dim=1))"
      ],
      "execution_count": 11,
      "outputs": [
        {
          "output_type": "stream",
          "text": [
            "torch.Size([64, 10])\n",
            "tensor([1.0000, 1.0000, 1.0000, 1.0000, 1.0000, 1.0000, 1.0000, 1.0000, 1.0000,\n",
            "        1.0000, 1.0000, 1.0000, 1.0000, 1.0000, 1.0000, 1.0000, 1.0000, 1.0000,\n",
            "        1.0000, 1.0000, 1.0000, 1.0000, 1.0000, 1.0000, 1.0000, 1.0000, 1.0000,\n",
            "        1.0000, 1.0000, 1.0000, 1.0000, 1.0000, 1.0000, 1.0000, 1.0000, 1.0000,\n",
            "        1.0000, 1.0000, 1.0000, 1.0000, 1.0000, 1.0000, 1.0000, 1.0000, 1.0000,\n",
            "        1.0000, 1.0000, 1.0000, 1.0000, 1.0000, 1.0000, 1.0000, 1.0000, 1.0000,\n",
            "        1.0000, 1.0000, 1.0000, 1.0000, 1.0000, 1.0000, 1.0000, 1.0000, 1.0000,\n",
            "        1.0000])\n"
          ],
          "name": "stdout"
        }
      ]
    },
    {
      "cell_type": "markdown",
      "metadata": {
        "id": "axN9cM8KOUh0"
      },
      "source": [
        "## Building networks with PyTorch\n",
        "\n",
        "PyTorch provides a module `nn` that makes building networks much simpler. Here I'll show you how to build the same one as above with 784 inputs, 256 hidden units, 10 output units and a softmax output."
      ]
    },
    {
      "cell_type": "code",
      "metadata": {
        "collapsed": true,
        "id": "HJm_hs_6OUh0"
      },
      "source": [
        "from torch import nn"
      ],
      "execution_count": 13,
      "outputs": []
    },
    {
      "cell_type": "code",
      "metadata": {
        "collapsed": true,
        "id": "s1EGJmk2OUh1"
      },
      "source": [
        "class Network(nn.Module):\n",
        "  def __init__(self):\n",
        "    super().__init__()\n",
        "\n",
        "    #input to hidden layer linear transformation\n",
        "    self.hidden = nn.Linear(784,256)\n",
        "    #output layer. 10 units,one for each digit\n",
        "    self.output = nn.Linear(256,10)\n",
        "\n",
        "    #define sigmoid activation function\n",
        "    self.sigmoid = nn.Sigmoid()\n",
        "    self.softmax = nn.Softmax(dim=1)\n",
        "\n",
        "  def forward(self,x):\n",
        "    #propagate input through the network\n",
        "    x = self.hidden(x)\n",
        "    x = self.sigmoid(x)\n",
        "    x = self.output(x)\n",
        "    x = self.softmax(x)\n",
        "\n",
        "    return(x)\n",
        "\n"
      ],
      "execution_count": 18,
      "outputs": []
    },
    {
      "cell_type": "markdown",
      "metadata": {
        "id": "Ew1Ro8gsOUh1"
      },
      "source": [
        "Let's go through this bit by bit.\n",
        "\n",
        "```python\n",
        "class Network(nn.Module):\n",
        "```\n",
        "\n",
        "Here we're inheriting from `nn.Module`. Combined with `super().__init__()` this creates a class that tracks the architecture and provides a lot of useful methods and attributes. It is mandatory to inherit from `nn.Module` when you're creating a class for your network. The name of the class itself can be anything.\n",
        "\n",
        "```python\n",
        "self.hidden = nn.Linear(784, 256)\n",
        "```\n",
        "\n",
        "This line creates a module for a linear transformation, $x\\mathbf{W} + b$, with 784 inputs and 256 outputs and assigns it to `self.hidden`. The module automatically creates the weight and bias tensors which we'll use in the `forward` method. You can access the weight and bias tensors once the network (`net`) is created with `net.hidden.weight` and `net.hidden.bias`.\n",
        "\n",
        "```python\n",
        "self.output = nn.Linear(256, 10)\n",
        "```\n",
        "\n",
        "Similarly, this creates another linear transformation with 256 inputs and 10 outputs.\n",
        "\n",
        "```python\n",
        "self.sigmoid = nn.Sigmoid()\n",
        "self.softmax = nn.Softmax(dim=1)\n",
        "```\n",
        "\n",
        "Here I defined operations for the sigmoid activation and softmax output. Setting `dim=1` in `nn.Softmax(dim=1)` calculates softmax across the columns.\n",
        "\n",
        "```python\n",
        "def forward(self, x):\n",
        "```\n",
        "\n",
        "PyTorch networks created with `nn.Module` must have a `forward` method defined. It takes in a tensor `x` and passes it through the operations you defined in the `__init__` method.\n",
        "\n",
        "```python\n",
        "x = self.hidden(x)\n",
        "x = self.sigmoid(x)\n",
        "x = self.output(x)\n",
        "x = self.softmax(x)\n",
        "```\n",
        "\n",
        "Here the input tensor `x` is passed through each operation a reassigned to `x`. We can see that the input tensor goes through the hidden layer, then a sigmoid function, then the output layer, and finally the softmax function. It doesn't matter what you name the variables here, as long as the inputs and outputs of the operations match the network architecture you want to build. The order in which you define things in the `__init__` method doesn't matter, but you'll need to sequence the operations correctly in the `forward` method.\n",
        "\n",
        "Now we can create a `Network` object."
      ]
    },
    {
      "cell_type": "code",
      "metadata": {
        "collapsed": true,
        "id": "P30-v1V-OUh1",
        "outputId": "b5ee2d2c-64cc-40d2-fdb5-9616f40a63f1",
        "colab": {
          "base_uri": "https://localhost:8080/"
        }
      },
      "source": [
        "# Create the network and look at it's text representation\n",
        "model = Network()\n",
        "model"
      ],
      "execution_count": 19,
      "outputs": [
        {
          "output_type": "execute_result",
          "data": {
            "text/plain": [
              "Network(\n",
              "  (hidden): Linear(in_features=784, out_features=256, bias=True)\n",
              "  (output): Linear(in_features=256, out_features=10, bias=True)\n",
              "  (sigmoid): Sigmoid()\n",
              "  (softmax): Softmax(dim=1)\n",
              ")"
            ]
          },
          "metadata": {
            "tags": []
          },
          "execution_count": 19
        }
      ]
    },
    {
      "cell_type": "markdown",
      "metadata": {
        "id": "AfF62vRTOUh2"
      },
      "source": [
        "You can define the network somewhat more concisely and clearly using the `torch.nn.functional` module. This is the most common way you'll see networks defined as many operations are simple element-wise functions. We normally import this module as `F`, `import torch.nn.functional as F`."
      ]
    },
    {
      "cell_type": "code",
      "metadata": {
        "collapsed": true,
        "id": "2APtH-RbOUh2"
      },
      "source": [
        "import torch.nn.functional as F\n",
        "\n",
        "class Network(nn.Module):\n",
        "    def __init__(self):\n",
        "        super().__init__()\n",
        "        # Inputs to hidden layer linear transformation\n",
        "        self.hidden = nn.Linear(784, 256)\n",
        "        # Output layer, 10 units - one for each digit\n",
        "        self.output = nn.Linear(256, 10)\n",
        "        \n",
        "    def forward(self, x):\n",
        "        # Hidden layer with sigmoid activation\n",
        "        x = F.sigmoid(self.hidden(x))\n",
        "        # Output layer with softmax activation\n",
        "        x = F.softmax(self.output(x), dim=1)\n",
        "        \n",
        "        return x"
      ],
      "execution_count": 20,
      "outputs": []
    },
    {
      "cell_type": "markdown",
      "metadata": {
        "id": "O9YRcYXuOUh3"
      },
      "source": [
        "### Activation functions\n",
        "\n",
        "So far we've only been looking at the softmax activation, but in general any function can be used as an activation function. The only requirement is that for a network to approximate a non-linear function, the activation functions must be non-linear. Here are a few more examples of common activation functions: Tanh (hyperbolic tangent), and ReLU (rectified linear unit).\n",
        "\n",
        "<img src=\"https://github.com/MwauratheAlex/deep-learning-pytorch/blob/main/intro-to-pytorch/assets/activation.png?raw=1\" width=700px>\n",
        "\n",
        "In practice, the ReLU function is used almost exclusively as the activation function for hidden layers."
      ]
    },
    {
      "cell_type": "markdown",
      "metadata": {
        "id": "G2QsTlbeOUh3"
      },
      "source": [
        "### Your Turn to Build a Network\n",
        "\n",
        "<img src=\"https://github.com/MwauratheAlex/deep-learning-pytorch/blob/main/intro-to-pytorch/assets/mlp_mnist.png?raw=1\" width=600px>\n",
        "\n",
        "> **Exercise:** Create a network with 784 input units, a hidden layer with 128 units and a ReLU activation, then a hidden layer with 64 units and a ReLU activation, and finally an output layer with a softmax activation as shown above. You can use a ReLU activation with the `nn.ReLU` module or `F.relu` function."
      ]
    },
    {
      "cell_type": "code",
      "metadata": {
        "collapsed": true,
        "scrolled": true,
        "id": "POC0rALnOUh3"
      },
      "source": [
        "## Your solution here\n"
      ],
      "execution_count": null,
      "outputs": []
    },
    {
      "cell_type": "markdown",
      "metadata": {
        "id": "furu_5kJOUh3"
      },
      "source": [
        "### Initializing weights and biases\n",
        "\n",
        "The weights and such are automatically initialized for you, but it's possible to customize how they are initialized. The weights and biases are tensors attached to the layer you defined, you can get them with `model.fc1.weight` for instance."
      ]
    },
    {
      "cell_type": "code",
      "metadata": {
        "collapsed": true,
        "id": "OyG2O3ayOUh4"
      },
      "source": [
        "print(model.fc1.weight)\n",
        "print(model.fc1.bias)"
      ],
      "execution_count": null,
      "outputs": []
    },
    {
      "cell_type": "markdown",
      "metadata": {
        "id": "pnonJAvTOUh4"
      },
      "source": [
        "For custom initialization, we want to modify these tensors in place. These are actually autograd *Variables*, so we need to get back the actual tensors with `model.fc1.weight.data`. Once we have the tensors, we can fill them with zeros (for biases) or random normal values."
      ]
    },
    {
      "cell_type": "code",
      "metadata": {
        "collapsed": true,
        "id": "LQZC3XNAOUh4"
      },
      "source": [
        "# Set biases to all zeros\n",
        "model.fc1.bias.data.fill_(0)"
      ],
      "execution_count": null,
      "outputs": []
    },
    {
      "cell_type": "code",
      "metadata": {
        "collapsed": true,
        "id": "ovMv9T0IOUh4"
      },
      "source": [
        "# sample from random normal with standard dev = 0.01\n",
        "model.fc1.weight.data.normal_(std=0.01)"
      ],
      "execution_count": null,
      "outputs": []
    },
    {
      "cell_type": "markdown",
      "metadata": {
        "id": "1_eR_EAEOUh4"
      },
      "source": [
        "### Forward pass\n",
        "\n",
        "Now that we have a network, let's see what happens when we pass in an image."
      ]
    },
    {
      "cell_type": "code",
      "metadata": {
        "collapsed": true,
        "id": "klosleZVOUh5"
      },
      "source": [
        "# Grab some data \n",
        "dataiter = iter(trainloader)\n",
        "images, labels = dataiter.next()\n",
        "\n",
        "# Resize images into a 1D vector, new shape is (batch size, color channels, image pixels) \n",
        "images.resize_(64, 1, 784)\n",
        "# or images.resize_(images.shape[0], 1, 784) to automatically get batch size\n",
        "\n",
        "# Forward pass through the network\n",
        "img_idx = 0\n",
        "ps = model.forward(images[img_idx,:])\n",
        "\n",
        "img = images[img_idx]\n",
        "helper.view_classify(img.view(1, 28, 28), ps)"
      ],
      "execution_count": null,
      "outputs": []
    },
    {
      "cell_type": "markdown",
      "metadata": {
        "id": "_jtBzKYIOUh5"
      },
      "source": [
        "As you can see above, our network has basically no idea what this digit is. It's because we haven't trained it yet, all the weights are random!\n",
        "\n",
        "### Using `nn.Sequential`\n",
        "\n",
        "PyTorch provides a convenient way to build networks like this where a tensor is passed sequentially through operations, `nn.Sequential` ([documentation](https://pytorch.org/docs/master/nn.html#torch.nn.Sequential)). Using this to build the equivalent network:"
      ]
    },
    {
      "cell_type": "code",
      "metadata": {
        "collapsed": true,
        "id": "gELCDVuyOUh5"
      },
      "source": [
        "# Hyperparameters for our network\n",
        "input_size = 784\n",
        "hidden_sizes = [128, 64]\n",
        "output_size = 10\n",
        "\n",
        "# Build a feed-forward network\n",
        "model = nn.Sequential(nn.Linear(input_size, hidden_sizes[0]),\n",
        "                      nn.ReLU(),\n",
        "                      nn.Linear(hidden_sizes[0], hidden_sizes[1]),\n",
        "                      nn.ReLU(),\n",
        "                      nn.Linear(hidden_sizes[1], output_size),\n",
        "                      nn.Softmax(dim=1))\n",
        "print(model)\n",
        "\n",
        "# Forward pass through the network and display output\n",
        "images, labels = next(iter(trainloader))\n",
        "images.resize_(images.shape[0], 1, 784)\n",
        "ps = model.forward(images[0,:])\n",
        "helper.view_classify(images[0].view(1, 28, 28), ps)"
      ],
      "execution_count": null,
      "outputs": []
    },
    {
      "cell_type": "markdown",
      "metadata": {
        "id": "szsGamWWOUh5"
      },
      "source": [
        "Here our model is the same as before: 784 input units, a hidden layer with 128 units, ReLU activation, 64 unit hidden layer, another ReLU, then the output layer with 10 units, and the softmax output.\n",
        "\n",
        "The operations are availble by passing in the appropriate index. For example, if you want to get first Linear operation and look at the weights, you'd use `model[0]`."
      ]
    },
    {
      "cell_type": "code",
      "metadata": {
        "collapsed": true,
        "id": "5Xz_aOerOUh5"
      },
      "source": [
        "print(model[0])\n",
        "model[0].weight"
      ],
      "execution_count": null,
      "outputs": []
    },
    {
      "cell_type": "markdown",
      "metadata": {
        "id": "ukNOAcwqOUh6"
      },
      "source": [
        "You can also pass in an `OrderedDict` to name the individual layers and operations, instead of using incremental integers. Note that dictionary keys must be unique, so _each operation must have a different name_."
      ]
    },
    {
      "cell_type": "code",
      "metadata": {
        "collapsed": true,
        "id": "DSNrZd9EOUh6"
      },
      "source": [
        "from collections import OrderedDict\n",
        "model = nn.Sequential(OrderedDict([\n",
        "                      ('fc1', nn.Linear(input_size, hidden_sizes[0])),\n",
        "                      ('relu1', nn.ReLU()),\n",
        "                      ('fc2', nn.Linear(hidden_sizes[0], hidden_sizes[1])),\n",
        "                      ('relu2', nn.ReLU()),\n",
        "                      ('output', nn.Linear(hidden_sizes[1], output_size)),\n",
        "                      ('softmax', nn.Softmax(dim=1))]))\n",
        "model"
      ],
      "execution_count": null,
      "outputs": []
    },
    {
      "cell_type": "markdown",
      "metadata": {
        "id": "PU7tp3IcOUh6"
      },
      "source": [
        "Now you can access layers either by integer or the name"
      ]
    },
    {
      "cell_type": "code",
      "metadata": {
        "collapsed": true,
        "id": "5HEqWhyKOUh6"
      },
      "source": [
        "print(model[0])\n",
        "print(model.fc1)"
      ],
      "execution_count": null,
      "outputs": []
    },
    {
      "cell_type": "markdown",
      "metadata": {
        "id": "4f2-eEx5OUh6"
      },
      "source": [
        "In the next notebook, we'll see how we can train a neural network to accuractly predict the numbers appearing in the MNIST images."
      ]
    }
  ]
}