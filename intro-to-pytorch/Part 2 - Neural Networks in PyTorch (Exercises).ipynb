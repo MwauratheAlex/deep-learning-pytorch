{
 "cells": [
  {
   "cell_type": "markdown",
   "metadata": {},
   "source": [
    "# Neural networks with PyTorch\n",
    "\n",
    "Deep learning networks tend to be massive with dozens or hundreds of layers, that's where the term \"deep\" comes from. You can build one of these deep networks using only weight matrices as we did in the previous notebook, but in generally it's very cumbersome and difficult to implement. PyTorch has a nice module `nn` that provides a nice way to efficiently build large neural networks."
   ]
  },
  {
   "cell_type": "code",
   "execution_count": 1,
   "metadata": {},
   "outputs": [],
   "source": [
    "# Import necessary packages\n",
    "\n",
    "%matplotlib inline\n",
    "%config InlineBackend.figure_format = 'retina'\n",
    "\n",
    "import numpy as np\n",
    "import torch\n",
    "\n",
    "import helper\n",
    "\n",
    "import matplotlib.pyplot as plt"
   ]
  },
  {
   "cell_type": "markdown",
   "metadata": {},
   "source": [
    "\n",
    "Now we're going to build a larger network that can solve a (formerly) difficult problem, identifying text in an image. Here we'll use the MNIST dataset which consists of greyscale handwritten digits. Each image is 28x28 pixels, you can see a sample below\n",
    "\n",
    "<img src='assets/mnist.png'>\n",
    "\n",
    "Our goal is to build a neural network that can take one of these images and predict the digit in the image.\n",
    "\n",
    "First up, we need to get our dataset. This is provided through the `torchvision` package. The code below will download the MNIST dataset, then create training and test datasets for us. Don't worry too much about the details here, you'll learn more about this later."
   ]
  },
  {
   "cell_type": "code",
   "execution_count": 2,
   "metadata": {},
   "outputs": [
    {
     "name": "stdout",
     "output_type": "stream",
     "text": [
      "Downloading http://yann.lecun.com/exdb/mnist/train-images-idx3-ubyte.gz\n",
      "Downloading http://yann.lecun.com/exdb/mnist/train-labels-idx1-ubyte.gz\n",
      "Downloading http://yann.lecun.com/exdb/mnist/t10k-images-idx3-ubyte.gz\n",
      "Downloading http://yann.lecun.com/exdb/mnist/t10k-labels-idx1-ubyte.gz\n",
      "Processing...\n",
      "Done!\n"
     ]
    }
   ],
   "source": [
    "### Run this cell\n",
    "\n",
    "from torchvision import datasets, transforms\n",
    "\n",
    "# Define a transform to normalize the data\n",
    "transform = transforms.Compose([transforms.ToTensor(),\n",
    "                              transforms.Normalize((0.5,), (0.5,)),\n",
    "                              ])\n",
    "\n",
    "# Download and load the training data\n",
    "trainset = datasets.MNIST('~/.pytorch/MNIST_data/', download=True, train=True, transform=transform)\n",
    "trainloader = torch.utils.data.DataLoader(trainset, batch_size=64, shuffle=True)"
   ]
  },
  {
   "cell_type": "markdown",
   "metadata": {},
   "source": [
    "We have the training data loaded into `trainloader` and we make that an iterator with `iter(trainloader)`. Later, we'll use this to loop through the dataset for training, like\n",
    "\n",
    "```python\n",
    "for image, label in trainloader:\n",
    "    ## do things with images and labels\n",
    "```\n",
    "\n",
    "You'll notice I created the `trainloader` with a batch size of 64, and `shuffle=True`. The batch size is the number of images we get in one iteration from the data loader and pass through our network, often called a *batch*. And `shuffle=True` tells it to shuffle the dataset every time we start going through the data loader again. But here I'm just grabbing the first batch so we can check out the data. We can see below that `images` is just a tensor with size `(64, 1, 28, 28)`. So, 64 images per batch, 1 color channel, and 28x28 images."
   ]
  },
  {
   "cell_type": "code",
   "execution_count": 3,
   "metadata": {},
   "outputs": [
    {
     "name": "stdout",
     "output_type": "stream",
     "text": [
      "<class 'torch.Tensor'>\n",
      "torch.Size([64, 1, 28, 28])\n",
      "torch.Size([64])\n"
     ]
    }
   ],
   "source": [
    "dataiter = iter(trainloader)\n",
    "images, labels = dataiter.next()\n",
    "print(type(images))\n",
    "print(images.shape)\n",
    "print(labels.shape)"
   ]
  },
  {
   "cell_type": "markdown",
   "metadata": {},
   "source": [
    "This is what one of the images looks like. "
   ]
  },
  {
   "cell_type": "code",
   "execution_count": 4,
   "metadata": {},
   "outputs": [
    {
     "data": {
      "image/png": "[encoded data removed]",
      "text/plain": [
       "<matplotlib.figure.Figure at 0x7f1e14bd5588>"
      ]
     },
     "metadata": {
      "image/png": {
       "height": 250,
       "width": 253
      },
      "needs_background": "light"
     },
     "output_type": "display_data"
    }
   ],
   "source": [
    "plt.imshow(images[1].numpy().squeeze(), cmap='Greys_r');"
   ]
  },
  {
   "cell_type": "markdown",
   "metadata": {},
   "source": [
    "First, let's try to build a simple network for this dataset using weight matrices and matrix multiplications. Then, we'll see how to do it using PyTorch's `nn` module which provides a much more convenient and powerful method for defining network architectures.\n",
    "\n",
    "The networks you've seen so far are called *fully-connected* or *dense* networks. Each unit in one layer is connected to each unit in the next layer. In fully-connected networks, the input to each layer must be a one-dimensional vector (which can be stacked into a 2D tensor as a batch of multiple examples). However, our images are 28x28 2D tensors, so we need to convert them into 1D vectors. Thinking about sizes, we need to convert the batch of images with shape `(64, 1, 28, 28)` to a have a shape of `(64, 784)`, 784 is 28 times 28. This is typically called *flattening*, we flattened the 2D images into 1D vectors.\n",
    "\n",
    "Previously you built a network with one output unit. Here we need 10 output units, one for each digit. We want our network to predict the digit shown in an image, so what we'll do is calculate probabilities that the image is of any one digit or class. This ends up being a discrete probability distribution over the classes (digits) that tells us the most likely class for the image. That means we need 10 output units for the 10 classes (digits). We'll see how to convert the network output into a probability distribution next.\n",
    "\n",
    "> **Exercise:** Flatten the batch of images `images`. Then build a multi-layer network with 784 input units, 256 hidden units, and 10 output units using random tensors for the weights and biases. For now, use a sigmoid activation for the hidden layer. Leave the output layer without an activation, we'll add one that gives us a probability distribution next."
   ]
  },
  {
   "cell_type": "code",
   "execution_count": 34,
   "metadata": {},
   "outputs": [
    {
     "name": "stdout",
     "output_type": "stream",
     "text": [
      "tensor([[ 15.8844,   2.4573,  -3.8382,  -2.7123,   5.1587,  -4.9087,\n",
      "          18.9236,  -8.6851,  -6.8255,  -7.0026],\n",
      "        [ 10.3928,  -0.9572,  -5.6502,   0.4205,   6.7643,  -5.5585,\n",
      "          19.2081, -13.3880,   0.8604,  -4.5483],\n",
      "        [  1.0227,   2.9996,   0.6800,   2.7987,  -1.1412,   3.2951,\n",
      "          18.5138,  -3.6732, -13.0936, -15.0893],\n",
      "        [ 13.5137,   6.5683,   0.7398,  -4.0447,  -7.0581, -14.5900,\n",
      "          14.5266,  -2.2418,  -9.0588,  -5.4876],\n",
      "        [ 12.9861,   7.8077,  -1.0722,  14.4665,  -1.1729, -16.6744,\n",
      "          17.0135, -21.6872,  -8.8257,   5.8367],\n",
      "        [  5.0997,   6.6821,  -2.6168,  -0.3666,  -5.8696,  -2.7902,\n",
      "          26.2835, -14.5647, -13.6018,  -5.6707],\n",
      "        [ 14.8142,   6.2559,  -8.2954,  -2.9565,   2.2212, -14.2625,\n",
      "          23.7690, -10.5648, -19.2914,  -4.5318],\n",
      "        [ 18.2057,  13.9952,   0.4818,   1.2587,   0.5384,  -8.4735,\n",
      "          26.3396, -17.2571,  -9.8779,  -0.1724],\n",
      "        [  5.7572,   6.9094,   0.0849,  11.0905,  -0.2701,  -4.8029,\n",
      "          13.8256,  -9.8249,  -9.6727,  -5.2872],\n",
      "        [ 24.0546,   1.7935, -11.4403,  -4.7265,   5.8016,  -9.9051,\n",
      "          15.7567, -18.4701,  -1.2310, -10.6894],\n",
      "        [ 20.1870,  -4.0825,  -1.2018, -11.5921,   3.8045, -11.5202,\n",
      "          20.1500, -13.3661,  -4.6062,  -2.1203],\n",
      "        [ 11.3458,  11.6328,  -5.6447,  -1.8585,   2.1303,  -6.3183,\n",
      "          25.1895, -16.0413,  -7.6848,  -5.7469],\n",
      "        [  5.0581,   7.5967,   3.6476,   3.4751,   9.0569,  -6.6695,\n",
      "          25.5050,  -8.4124, -10.7975,  -6.8125],\n",
      "        [ 10.7799,  -2.7826,  -2.5540, -17.2204, -10.5166,  -5.9808,\n",
      "          15.7503, -16.8223,  -9.0718,  -2.6199],\n",
      "        [ 12.2530,   2.3894,   1.9571, -10.1382,  -0.7592, -13.7223,\n",
      "          17.3130,  -9.7615,  -7.0720,  -4.7864],\n",
      "        [ 12.9948,   2.7879,   1.8073,   2.3488,   0.7170,  -3.5153,\n",
      "          25.4739, -14.9146, -16.3115, -10.2915],\n",
      "        [  5.2820,  -1.9407,  -4.3856,  -3.3799,   0.4005,   3.9984,\n",
      "          14.0973, -14.0956,  -6.9119, -11.6790],\n",
      "        [ -0.3198,  18.3370,   7.4391,  12.9357,  -6.1447,  -8.6118,\n",
      "          16.2263, -17.6648,   1.4891,  -9.5635],\n",
      "        [  6.7449,  14.7150, -11.9763,   3.9750,   4.3562,  -6.2690,\n",
      "          18.6841, -10.4412,  -4.1673, -13.8118],\n",
      "        [ 15.2160,   7.4678,  -5.5014,   0.5006,   7.3341,  -6.3816,\n",
      "          23.2872, -16.7064, -11.6935,  -9.1069],\n",
      "        [ 15.6166,   4.8615,  -1.5776,  -1.7194,  -8.0695,  -7.8311,\n",
      "          19.3622, -17.6364,  -2.6776, -17.7680],\n",
      "        [ 16.2633,   6.6258,  -8.3483,  -5.1015,  -3.3655,  -0.1453,\n",
      "          12.0473,  -5.5617, -12.5162, -10.8460],\n",
      "        [ 10.9895,   0.5479,  -4.8942,   3.1535,   5.6700, -11.7517,\n",
      "          15.0068,  -8.7401,  -6.0877,  -1.0980],\n",
      "        [  9.9976,   1.0273,  -1.7812,  -0.8323,  -2.3570,  -2.2588,\n",
      "          16.1953,  -6.8296,  -8.5340,  -4.4335],\n",
      "        [ 20.2413,   8.7438,  -4.5658,  -1.6836,   4.7419,  -5.3304,\n",
      "          15.9385,  -9.4836,  -7.3349,  -3.7497],\n",
      "        [ 13.0688,   4.8613,   1.7022,  -3.7424,   4.1990,  -8.2237,\n",
      "          17.8673, -14.9352,  -4.6488,  -1.2542],\n",
      "        [ 19.0389,  -0.1126,  -4.7457,  -1.9502,   3.7098, -14.6696,\n",
      "          25.6018, -13.7871, -17.6188,  -2.5411],\n",
      "        [  8.2696,   3.0622,  -4.6496,   1.3832,  -2.0076,  -8.3565,\n",
      "          23.8333,  -6.4131,  -1.6810,   1.2146],\n",
      "        [  3.2860,   1.9103,  -1.5879,   4.4932,  -8.2950,  -6.9720,\n",
      "          12.8012, -25.0845,  -6.0876,  -4.3565],\n",
      "        [ 12.4396,  10.5655,  -3.5912,  -3.4632,   6.4988,  -3.2384,\n",
      "          18.7105, -13.9996,  -6.8498,  -8.7867],\n",
      "        [ 15.0274,   2.3056,  -9.8107,   1.9149,   4.2114, -10.6056,\n",
      "          30.3602, -20.6527, -16.4988,  -5.1048],\n",
      "        [ 11.8691,   8.6128,  -3.9610,   1.7017,   2.8991, -11.0644,\n",
      "          12.7563, -17.2122,  -2.9188, -10.4770],\n",
      "        [ 18.3064,   6.3969,  -5.4333,   1.2096,   7.8858,  -7.6252,\n",
      "          19.9928, -15.6823,  -5.4259,  -3.2899],\n",
      "        [  2.5936,  21.1041,   3.0137,  10.1942,   3.1529, -15.8335,\n",
      "          10.5594, -14.5436,  -3.3452,   6.2025],\n",
      "        [  5.6429,  -1.5738,  -4.6986,  -4.2280,   5.1929,  -4.8909,\n",
      "          29.4659,  -8.5209, -13.2516,  -9.3190],\n",
      "        [  6.1659,   7.9711,   5.5597,   7.5943,  -8.8353,  -8.4222,\n",
      "          20.9204,  -7.4738, -12.6773,  -0.4885],\n",
      "        [ 10.6645,   0.9881,  -3.9616,  -3.0528,   0.5548, -11.0008,\n",
      "           9.6286, -12.2049,  -6.9457,  -9.5343],\n",
      "        [ 19.9742,  -2.7169,  -6.7994,  -4.3667, -12.4298,  -1.0675,\n",
      "          14.3050, -15.7746, -12.6629,  -6.7844],\n",
      "        [ 20.3456,  13.8413,  -3.1457,   1.2463,   3.7885,  -8.5220,\n",
      "          26.6784,  -8.0404, -16.0284,  -4.2298],\n",
      "        [ 10.9561,  -0.3980,  -6.0023,  -0.6765,   2.6758,  -1.1926,\n",
      "          20.0042,  -9.4311,  -9.7885,  -0.2200],\n",
      "        [ 13.0009,   3.3840, -10.3942,  -1.3167,  -1.3780,  -7.0655,\n",
      "          28.2031, -19.0871,  -8.6961,  -0.4906],\n",
      "        [ 20.4477,  -0.4709,  -0.9915,  -5.4931,   0.6763,  -4.0860,\n",
      "          20.7745, -13.6309,  -7.6422,  -6.7136],\n",
      "        [ 13.6743,  -5.3694,  -3.4369,  -4.4195,   9.2994,   0.4591,\n",
      "           8.9592, -10.6600,  -0.2876,  -6.8239],\n",
      "        [ 15.0548,  11.4205,  -9.8532,  -2.2096,   1.7013,  -9.4957,\n",
      "          20.2238,  -8.5695,  -5.5264,  -6.6408],\n",
      "        [ 12.7464,  10.2003,   2.9230,   1.2662,   4.6168, -13.9082,\n",
      "          16.8528, -12.8150,  -9.6948,  -6.2549],\n",
      "        [  4.2171,   4.9695,  10.1239,   3.8725,  -5.2659,  -7.2459,\n",
      "          20.4607, -18.1334,  -4.6350,  -2.2714],\n",
      "        [  9.2556,  -1.5257,  -0.2284,  -0.6975,  -1.6861,   5.6948,\n",
      "          26.8767,  -5.9041, -13.1351, -12.2711],\n",
      "        [  9.8599,   3.3807,   0.5557,   4.1209,  -2.7745,  -6.3676,\n",
      "          23.9797, -10.4949,  -3.4123,  -3.4960],\n",
      "        [ 16.3929,  10.4084,  -0.5572,  -1.0208,   0.5807, -12.7491,\n",
      "          12.1993, -10.0786,  -1.0088,  -1.3423],\n",
      "        [  3.4033,   0.4918,  -3.4474,  -1.5442,  -6.8381,   2.1143,\n",
      "          22.7601, -12.9009, -16.5660, -13.3344],\n",
      "        [  9.9836,  -0.3298,  -5.7141,   0.8913,  -4.3768, -19.9736,\n",
      "          21.9374, -18.7027,  -6.4009,   7.7804],\n",
      "        [ 14.1508,   3.1050,  -3.3300,   9.2702,   8.8666, -14.0567,\n",
      "          27.6479, -16.5027,   4.8094,   2.5888],\n",
      "        [ 18.7458,  -2.9527, -12.9112,  -9.6307,  -5.3264,  -8.2960,\n",
      "          31.8271, -14.4216, -11.7183,  -9.1249],\n",
      "        [ 13.5859,  15.8450,   0.0411,   0.5047,  -6.7478, -18.2443,\n",
      "           8.3388, -20.3029,  -4.2487,   4.1263],\n",
      "        [  0.3433,  -0.8483,  -7.8699,   0.4931,  -2.1554,  -4.4470,\n",
      "           8.4406, -16.2471, -10.3282, -12.2065],\n",
      "        [ 10.6064,  12.7339,  -2.2429,   0.9559,  -5.0497, -13.1443,\n",
      "          14.7270, -12.7095,  -5.2354,   1.1486],\n",
      "        [ 14.6851,   1.2852,  -6.4691,   1.9979,   7.7395,   0.9257,\n",
      "          22.5776, -21.3178, -10.8249,   1.6476],\n",
      "        [  7.3918,   4.5689,   3.6810,   4.8854,  -0.8037, -13.7984,\n",
      "          20.1763, -11.8876,   2.2897,  -1.3042],\n",
      "        [  9.9031,   5.2503, -11.2825,   4.1388,  -4.0940,  -1.5946,\n",
      "          26.0889, -13.9516,  -7.0539,  -9.7576],\n",
      "        [ 13.8550,  14.2617,   0.0300,  -4.1737,   6.1963, -11.7600,\n",
      "          10.8546,  -7.5383,  -5.5312,  -4.9515],\n",
      "        [ 16.3481,  11.5549,   1.3393,   1.6082,   3.9809, -14.4999,\n",
      "          19.0912, -15.8763,  -2.9285,   0.4773],\n",
      "        [  9.5675,   3.0324,  -2.8347,  11.6274,  -0.3227, -13.6989,\n",
      "          11.3682, -23.5722,  -4.0924,  -9.1814],\n",
      "        [ 16.3555,   0.6657,  -5.4875,  -4.5083,   5.5762,  -3.7902,\n",
      "          13.4401,  -8.5159,   3.2648,  -5.0149],\n",
      "        [  8.7446,   8.5679,  -2.6750,   0.1323,  -9.0484,   1.7126,\n",
      "           5.8469,  -8.2399,  -6.0470,   0.1940]])\n"
     ]
    }
   ],
   "source": [
    "## Your solution\n",
    "def sigmoid(x):\n",
    "    return 1/(1+torch.exp(-x))\n",
    "\n",
    "\n",
    "inputs = images.view(images.shape[0],-1)\n",
    "targets = labels\n",
    "\n",
    "\n",
    "w1 = torch.randn(784,256)\n",
    "b1 = torch.randn(256)\n",
    "\n",
    "w2 = torch.randn(256,10)\n",
    "b2 = torch.randn(10)\n",
    "\n",
    "\n",
    "h = sigmoid(torch.mm(features,w1)+b1)\n",
    "\n",
    "\n",
    "out = torch.mm(h,w2)+b2# output of your network, should have shape (64,10)\n",
    "print(out)"
   ]
  },
  {
   "cell_type": "markdown",
   "metadata": {},
   "source": [
    "Now we have 10 outputs for our network. We want to pass in an image to our network and get out a probability distribution over the classes that tells us the likely class(es) the image belongs to. Something that looks like this:\n",
    "<img src='assets/image_distribution.png' width=500px>\n",
    "\n",
    "Here we see that the probability for each class is roughly the same. This is representing an untrained network, it hasn't seen any data yet so it just returns a uniform distribution with equal probabilities for each class.\n",
    "\n",
    "To calculate this probability distribution, we often use the [**softmax** function](https://en.wikipedia.org/wiki/Softmax_function). Mathematically this looks like\n",
    "\n",
    "$$\n",
    "\\Large \\sigma(x_i) = \\cfrac{e^{x_i}}{\\sum_k^K{e^{x_k}}}\n",
    "$$\n",
    "\n",
    "What this does is squish each input $x_i$ between 0 and 1 and normalizes the values to give you a proper probability distribution where the probabilites sum up to one.\n",
    "\n",
    "> **Exercise:** Implement a function `softmax` that performs the softmax calculation and returns probability distributions for each example in the batch. Note that you'll need to pay attention to the shapes when doing this. If you have a tensor `a` with shape `(64, 10)` and a tensor `b` with shape `(64,)`, doing `a/b` will give you an error because PyTorch will try to do the division across the columns (called broadcasting) but you'll get a size mismatch. The way to think about this is for each of the 64 examples, you only want to divide by one value, the sum in the denominator. So you need `b` to have a shape of `(64, 1)`. This way PyTorch will divide the 10 values in each row of `a` by the one value in each row of `b`. Pay attention to how you take the sum as well. You'll need to define the `dim` keyword in `torch.sum`. Setting `dim=0` takes the sum across the rows while `dim=1` takes the sum across the columns."
   ]
  },
  {
   "cell_type": "code",
   "execution_count": 73,
   "metadata": {},
   "outputs": [
    {
     "name": "stdout",
     "output_type": "stream",
     "text": [
      "torch.Size([64, 10])\n",
      "tensor([ 1.0000,  1.0000,  1.0000,  1.0000,  1.0000,  1.0000,  1.0000,\n",
      "         1.0000,  1.0000,  1.0000,  1.0000,  1.0000,  1.0000,  1.0000,\n",
      "         1.0000,  1.0000,  1.0000,  1.0000,  1.0000,  1.0000,  1.0000,\n",
      "         1.0000,  1.0000,  1.0000,  1.0000,  1.0000,  1.0000,  1.0000,\n",
      "         1.0000,  1.0000,  1.0000,  1.0000,  1.0000,  1.0000,  1.0000,\n",
      "         1.0000,  1.0000,  1.0000,  1.0000,  1.0000,  1.0000,  1.0000,\n",
      "         1.0000,  1.0000,  1.0000,  1.0000,  1.0000,  1.0000,  1.0000,\n",
      "         1.0000,  1.0000,  1.0000,  1.0000,  1.0000,  1.0000,  1.0000,\n",
      "         1.0000,  1.0000,  1.0000,  1.0000,  1.0000,  1.0000,  1.0000,\n",
      "         1.0000])\n"
     ]
    }
   ],
   "source": [
    "\n",
    "def softmax(x):\n",
    "    ## TODO: Implement the softmax function here\n",
    "    #for i in range(x.shape[0]):\n",
    "        #exp_sum = torch.sum(torch.exp(x[i]))\n",
    "        #for j in range(x[i].shape[0]):\n",
    "            #x[i][j] = torch.exp(x[i][j]) / exp_sum\n",
    "          \n",
    "    return torch.exp(x)/torch.sum(torch.exp(x),dim=1).view(-1,1)\n",
    "    \n",
    "# Here, out should be the output of the network in the previous excercise with shape (64,10)\n",
    "probabilities = softmax(out)\n",
    "# Does it have the right shape? Should be (64, 10)\n",
    "print(probabilities.shape)\n",
    "# Does it sum to 1?\n",
    "print(probabilities.sum(dim=1))"
   ]
  },
  {
   "cell_type": "markdown",
   "metadata": {},
   "source": [
    "## Building networks with PyTorch\n",
    "\n",
    "PyTorch provides a module `nn` that makes building networks much simpler. Here I'll show you how to build the same one as above with 784 inputs, 256 hidden units, 10 output units and a softmax output."
   ]
  },
  {
   "cell_type": "code",
   "execution_count": null,
   "metadata": {
    "collapsed": true
   },
   "outputs": [],
   "source": [
    "from torch import nn"
   ]
  },
  {
   "cell_type": "code",
   "execution_count": null,
   "metadata": {
    "collapsed": true
   },
   "outputs": [],
   "source": [
    "class Network(nn.Module):\n",
    "    def __init__(self):\n",
    "        super().__init__()\n",
    "        \n",
    "        # Inputs to hidden layer linear transformation\n",
    "        self.hidden = nn.Linear(784, 256)\n",
    "        # Output layer, 10 units - one for each digit\n",
    "        self.output = nn.Linear(256, 10)\n",
    "        \n",
    "        # Define sigmoid activation and softmax output \n",
    "        self.sigmoid = nn.Sigmoid()\n",
    "        self.softmax = nn.Softmax(dim=1)\n",
    "        \n",
    "    def forward(self, x):\n",
    "        # Pass the input tensor through each of our operations\n",
    "        x = self.hidden(x)\n",
    "        x = self.sigmoid(x)\n",
    "        x = self.output(x)\n",
    "        x = self.softmax(x)\n",
    "        \n",
    "        return x"
   ]
  },
  {
   "cell_type": "markdown",
   "metadata": {},
   "source": [
    "Let's go through this bit by bit.\n",
    "\n",
    "```python\n",
    "class Network(nn.Module):\n",
    "```\n",
    "\n",
    "Here we're inheriting from `nn.Module`. Combined with `super().__init__()` this creates a class that tracks the architecture and provides a lot of useful methods and attributes. It is mandatory to inherit from `nn.Module` when you're creating a class for your network. The name of the class itself can be anything.\n",
    "\n",
    "```python\n",
    "self.hidden = nn.Linear(784, 256)\n",
    "```\n",
    "\n",
    "This line creates a module for a linear transformation, $x\\mathbf{W} + b$, with 784 inputs and 256 outputs and assigns it to `self.hidden`. The module automatically creates the weight and bias tensors which we'll use in the `forward` method. You can access the weight and bias tensors once the network (`net`) is created with `net.hidden.weight` and `net.hidden.bias`.\n",
    "\n",
    "```python\n",
    "self.output = nn.Linear(256, 10)\n",
    "```\n",
    "\n",
    "Similarly, this creates another linear transformation with 256 inputs and 10 outputs.\n",
    "\n",
    "```python\n",
    "self.sigmoid = nn.Sigmoid()\n",
    "self.softmax = nn.Softmax(dim=1)\n",
    "```\n",
    "\n",
    "Here I defined operations for the sigmoid activation and softmax output. Setting `dim=1` in `nn.Softmax(dim=1)` calculates softmax across the columns.\n",
    "\n",
    "```python\n",
    "def forward(self, x):\n",
    "```\n",
    "\n",
    "PyTorch networks created with `nn.Module` must have a `forward` method defined. It takes in a tensor `x` and passes it through the operations you defined in the `__init__` method.\n",
    "\n",
    "```python\n",
    "x = self.hidden(x)\n",
    "x = self.sigmoid(x)\n",
    "x = self.output(x)\n",
    "x = self.softmax(x)\n",
    "```\n",
    "\n",
    "Here the input tensor `x` is passed through each operation a reassigned to `x`. We can see that the input tensor goes through the hidden layer, then a sigmoid function, then the output layer, and finally the softmax function. It doesn't matter what you name the variables here, as long as the inputs and outputs of the operations match the network architecture you want to build. The order in which you define things in the `__init__` method doesn't matter, but you'll need to sequence the operations correctly in the `forward` method.\n",
    "\n",
    "Now we can create a `Network` object."
   ]
  },
  {
   "cell_type": "code",
   "execution_count": null,
   "metadata": {
    "collapsed": true
   },
   "outputs": [],
   "source": [
    "# Create the network and look at it's text representation\n",
    "model = Network()\n",
    "model"
   ]
  },
  {
   "cell_type": "markdown",
   "metadata": {},
   "source": [
    "You can define the network somewhat more concisely and clearly using the `torch.nn.functional` module. This is the most common way you'll see networks defined as many operations are simple element-wise functions. We normally import this module as `F`, `import torch.nn.functional as F`."
   ]
  },
  {
   "cell_type": "code",
   "execution_count": null,
   "metadata": {
    "collapsed": true
   },
   "outputs": [],
   "source": [
    "import torch.nn.functional as F\n",
    "\n",
    "class Network(nn.Module):\n",
    "    def __init__(self):\n",
    "        super().__init__()\n",
    "        # Inputs to hidden layer linear transformation\n",
    "        self.hidden = nn.Linear(784, 256)\n",
    "        # Output layer, 10 units - one for each digit\n",
    "        self.output = nn.Linear(256, 10)\n",
    "        \n",
    "    def forward(self, x):\n",
    "        # Hidden layer with sigmoid activation\n",
    "        x = F.sigmoid(self.hidden(x))\n",
    "        # Output layer with softmax activation\n",
    "        x = F.softmax(self.output(x), dim=1)\n",
    "        \n",
    "        return x"
   ]
  },
  {
   "cell_type": "markdown",
   "metadata": {},
   "source": [
    "### Activation functions\n",
    "\n",
    "So far we've only been looking at the softmax activation, but in general any function can be used as an activation function. The only requirement is that for a network to approximate a non-linear function, the activation functions must be non-linear. Here are a few more examples of common activation functions: Tanh (hyperbolic tangent), and ReLU (rectified linear unit).\n",
    "\n",
    "<img src=\"assets/activation.png\" width=700px>\n",
    "\n",
    "In practice, the ReLU function is used almost exclusively as the activation function for hidden layers."
   ]
  },
  {
   "cell_type": "markdown",
   "metadata": {},
   "source": [
    "### Your Turn to Build a Network\n",
    "\n",
    "<img src=\"assets/mlp_mnist.png\" width=600px>\n",
    "\n",
    "> **Exercise:** Create a network with 784 input units, a hidden layer with 128 units and a ReLU activation, then a hidden layer with 64 units and a ReLU activation, and finally an output layer with a softmax activation as shown above. You can use a ReLU activation with the `nn.ReLU` module or `F.relu` function."
   ]
  },
  {
   "cell_type": "code",
   "execution_count": null,
   "metadata": {
    "collapsed": true,
    "scrolled": true
   },
   "outputs": [],
   "source": [
    "## Your solution here\n"
   ]
  },
  {
   "cell_type": "markdown",
   "metadata": {},
   "source": [
    "### Initializing weights and biases\n",
    "\n",
    "The weights and such are automatically initialized for you, but it's possible to customize how they are initialized. The weights and biases are tensors attached to the layer you defined, you can get them with `model.fc1.weight` for instance."
   ]
  },
  {
   "cell_type": "code",
   "execution_count": null,
   "metadata": {
    "collapsed": true
   },
   "outputs": [],
   "source": [
    "print(model.fc1.weight)\n",
    "print(model.fc1.bias)"
   ]
  },
  {
   "cell_type": "markdown",
   "metadata": {},
   "source": [
    "For custom initialization, we want to modify these tensors in place. These are actually autograd *Variables*, so we need to get back the actual tensors with `model.fc1.weight.data`. Once we have the tensors, we can fill them with zeros (for biases) or random normal values."
   ]
  },
  {
   "cell_type": "code",
   "execution_count": null,
   "metadata": {
    "collapsed": true
   },
   "outputs": [],
   "source": [
    "# Set biases to all zeros\n",
    "model.fc1.bias.data.fill_(0)"
   ]
  },
  {
   "cell_type": "code",
   "execution_count": null,
   "metadata": {
    "collapsed": true
   },
   "outputs": [],
   "source": [
    "# sample from random normal with standard dev = 0.01\n",
    "model.fc1.weight.data.normal_(std=0.01)"
   ]
  },
  {
   "cell_type": "markdown",
   "metadata": {},
   "source": [
    "### Forward pass\n",
    "\n",
    "Now that we have a network, let's see what happens when we pass in an image."
   ]
  },
  {
   "cell_type": "code",
   "execution_count": null,
   "metadata": {
    "collapsed": true
   },
   "outputs": [],
   "source": [
    "# Grab some data \n",
    "dataiter = iter(trainloader)\n",
    "images, labels = dataiter.next()\n",
    "\n",
    "# Resize images into a 1D vector, new shape is (batch size, color channels, image pixels) \n",
    "images.resize_(64, 1, 784)\n",
    "# or images.resize_(images.shape[0], 1, 784) to automatically get batch size\n",
    "\n",
    "# Forward pass through the network\n",
    "img_idx = 0\n",
    "ps = model.forward(images[img_idx,:])\n",
    "\n",
    "img = images[img_idx]\n",
    "helper.view_classify(img.view(1, 28, 28), ps)"
   ]
  },
  {
   "cell_type": "markdown",
   "metadata": {},
   "source": [
    "As you can see above, our network has basically no idea what this digit is. It's because we haven't trained it yet, all the weights are random!\n",
    "\n",
    "### Using `nn.Sequential`\n",
    "\n",
    "PyTorch provides a convenient way to build networks like this where a tensor is passed sequentially through operations, `nn.Sequential` ([documentation](https://pytorch.org/docs/master/nn.html#torch.nn.Sequential)). Using this to build the equivalent network:"
   ]
  },
  {
   "cell_type": "code",
   "execution_count": null,
   "metadata": {
    "collapsed": true
   },
   "outputs": [],
   "source": [
    "# Hyperparameters for our network\n",
    "input_size = 784\n",
    "hidden_sizes = [128, 64]\n",
    "output_size = 10\n",
    "\n",
    "# Build a feed-forward network\n",
    "model = nn.Sequential(nn.Linear(input_size, hidden_sizes[0]),\n",
    "                      nn.ReLU(),\n",
    "                      nn.Linear(hidden_sizes[0], hidden_sizes[1]),\n",
    "                      nn.ReLU(),\n",
    "                      nn.Linear(hidden_sizes[1], output_size),\n",
    "                      nn.Softmax(dim=1))\n",
    "print(model)\n",
    "\n",
    "# Forward pass through the network and display output\n",
    "images, labels = next(iter(trainloader))\n",
    "images.resize_(images.shape[0], 1, 784)\n",
    "ps = model.forward(images[0,:])\n",
    "helper.view_classify(images[0].view(1, 28, 28), ps)"
   ]
  },
  {
   "cell_type": "markdown",
   "metadata": {},
   "source": [
    "Here our model is the same as before: 784 input units, a hidden layer with 128 units, ReLU activation, 64 unit hidden layer, another ReLU, then the output layer with 10 units, and the softmax output.\n",
    "\n",
    "The operations are availble by passing in the appropriate index. For example, if you want to get first Linear operation and look at the weights, you'd use `model[0]`."
   ]
  },
  {
   "cell_type": "code",
   "execution_count": null,
   "metadata": {
    "collapsed": true
   },
   "outputs": [],
   "source": [
    "print(model[0])\n",
    "model[0].weight"
   ]
  },
  {
   "cell_type": "markdown",
   "metadata": {},
   "source": [
    "You can also pass in an `OrderedDict` to name the individual layers and operations, instead of using incremental integers. Note that dictionary keys must be unique, so _each operation must have a different name_."
   ]
  },
  {
   "cell_type": "code",
   "execution_count": null,
   "metadata": {
    "collapsed": true
   },
   "outputs": [],
   "source": [
    "from collections import OrderedDict\n",
    "model = nn.Sequential(OrderedDict([\n",
    "                      ('fc1', nn.Linear(input_size, hidden_sizes[0])),\n",
    "                      ('relu1', nn.ReLU()),\n",
    "                      ('fc2', nn.Linear(hidden_sizes[0], hidden_sizes[1])),\n",
    "                      ('relu2', nn.ReLU()),\n",
    "                      ('output', nn.Linear(hidden_sizes[1], output_size)),\n",
    "                      ('softmax', nn.Softmax(dim=1))]))\n",
    "model"
   ]
  },
  {
   "cell_type": "markdown",
   "metadata": {},
   "source": [
    "Now you can access layers either by integer or the name"
   ]
  },
  {
   "cell_type": "code",
   "execution_count": null,
   "metadata": {
    "collapsed": true
   },
   "outputs": [],
   "source": [
    "print(model[0])\n",
    "print(model.fc1)"
   ]
  },
  {
   "cell_type": "markdown",
   "metadata": {},
   "source": [
    "In the next notebook, we'll see how we can train a neural network to accuractly predict the numbers appearing in the MNIST images."
   ]
  }
 ],
 "metadata": {
  "kernelspec": {
   "display_name": "Python 3",
   "language": "python",
   "name": "python3"
  },
  "language_info": {
   "codemirror_mode": {
    "name": "ipython",
    "version": 3
   },
   "file_extension": ".py",
   "mimetype": "text/x-python",
   "name": "python",
   "nbconvert_exporter": "python",
   "pygments_lexer": "ipython3",
   "version": "3.6.3"
  }
 },
 "nbformat": 4,
 "nbformat_minor": 2
}
