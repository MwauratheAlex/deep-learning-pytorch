{
  "nbformat": 4,
  "nbformat_minor": 0,
  "metadata": {
    "kernelspec": {
      "display_name": "Python 3",
      "language": "python",
      "name": "python3"
    },
    "language_info": {
      "codemirror_mode": {
        "name": "ipython",
        "version": 3
      },
      "file_extension": ".py",
      "mimetype": "text/x-python",
      "name": "python",
      "nbconvert_exporter": "python",
      "pygments_lexer": "ipython3",
      "version": "3.6.6"
    },
    "colab": {
      "name": "Part 4 - Fashion-MNIST (Exercises).ipynb",
      "provenance": []
    }
  },
  "cells": [
    {
      "cell_type": "markdown",
      "metadata": {
        "id": "RiyUHiQNP-j_"
      },
      "source": [
        "# Classifying Fashion-MNIST\n",
        "\n",
        "Now it's your turn to build and train a neural network. You'll be using the [Fashion-MNIST dataset](https://github.com/zalandoresearch/fashion-mnist), a drop-in replacement for the MNIST dataset. MNIST is actually quite trivial with neural networks where you can easily achieve better than 97% accuracy. Fashion-MNIST is a set of 28x28 greyscale images of clothes. It's more complex than MNIST, so it's a better representation of the actual performance of your network, and a better representation of datasets you'll use in the real world.\n",
        "\n",
        "<img src='https://github.com/MwauratheAlex/deep-learning-pytorch/blob/main/intro-to-pytorch/assets/fashion-mnist-sprite.png?raw=1' width=500px>\n",
        "\n",
        "In this notebook, you'll build your own neural network. For the most part, you could just copy and paste the code from Part 3, but you wouldn't be learning. It's important for you to write the code yourself and get it to work. Feel free to consult the previous notebooks though as you work through this.\n",
        "\n",
        "First off, let's load the dataset through torchvision."
      ]
    },
    {
      "cell_type": "code",
      "metadata": {
        "id": "AQ4QZEe9P-kD",
        "outputId": "9e1f648c-1b17-4341-82cf-01cd018aa95e",
        "colab": {
          "base_uri": "https://localhost:8080/"
        }
      },
      "source": [
        "import torch\n",
        "from torchvision import datasets, transforms\n",
        "import helper\n",
        "\n",
        "# Define a transform to normalize the data\n",
        "transform = transforms.Compose([transforms.ToTensor(),\n",
        "                                transforms.Normalize((0.5,), (0.5, ))])\n",
        "# Download and load the training data\n",
        "trainset = datasets.FashionMNIST('~/.pytorch/F_MNIST_data/', download=True, train=True, transform=transform)\n",
        "trainloader = torch.utils.data.DataLoader(trainset, batch_size=64, shuffle=True)\n",
        "\n",
        "# Download and load the test data\n",
        "testset = datasets.FashionMNIST('~/.pytorch/F_MNIST_data/', download=True, train=False, transform=transform)\n",
        "testloader = torch.utils.data.DataLoader(testset, batch_size=64, shuffle=True)"
      ],
      "execution_count": 4,
      "outputs": [
        {
          "output_type": "stream",
          "text": [
            "/usr/local/lib/python3.7/dist-packages/torchvision/datasets/mnist.py:498: UserWarning: The given NumPy array is not writeable, and PyTorch does not support non-writeable tensors. This means you can write to the underlying (supposedly non-writeable) NumPy array using the tensor. You may want to copy the array to protect its data or make it writeable before converting it to a tensor. This type of warning will be suppressed for the rest of this program. (Triggered internally at  /pytorch/torch/csrc/utils/tensor_numpy.cpp:180.)\n",
            "  return torch.from_numpy(parsed.astype(m[2], copy=False)).view(*s)\n"
          ],
          "name": "stderr"
        }
      ]
    },
    {
      "cell_type": "markdown",
      "metadata": {
        "id": "861FygzAP-kE"
      },
      "source": [
        "Here we can see one of the images."
      ]
    },
    {
      "cell_type": "code",
      "metadata": {
        "id": "ffFrlJ8QVwBM"
      },
      "source": [
        "import matplotlib.pyplot as plt\n",
        "import numpy as np\n",
        "from torch import nn, optim\n",
        "from torch.autograd import Variable\n",
        "\n",
        "\n",
        "def test_network(net, trainloader):\n",
        "\n",
        "    criterion = nn.MSELoss()\n",
        "    optimizer = optim.Adam(net.parameters(), lr=0.001)\n",
        "\n",
        "    dataiter = iter(trainloader)\n",
        "    images, labels = dataiter.next()\n",
        "\n",
        "    # Create Variables for the inputs and targets\n",
        "    inputs = Variable(images)\n",
        "    targets = Variable(images)\n",
        "\n",
        "    # Clear the gradients from all Variables\n",
        "    optimizer.zero_grad()\n",
        "\n",
        "    # Forward pass, then backward pass, then update weights\n",
        "    output = net.forward(inputs)\n",
        "    loss = criterion(output, targets)\n",
        "    loss.backward()\n",
        "    optimizer.step()\n",
        "\n",
        "    return True\n",
        "\n",
        "\n",
        "def imshow(image, ax=None, title=None, normalize=True):\n",
        "    \"\"\"Imshow for Tensor.\"\"\"\n",
        "    if ax is None:\n",
        "        fig, ax = plt.subplots()\n",
        "    image = image.numpy().transpose((1, 2, 0))\n",
        "\n",
        "    if normalize:\n",
        "        mean = np.array([0.485, 0.456, 0.406])\n",
        "        std = np.array([0.229, 0.224, 0.225])\n",
        "        image = std * image + mean\n",
        "        image = np.clip(image, 0, 1)\n",
        "\n",
        "    ax.imshow(image)\n",
        "    ax.spines['top'].set_visible(False)\n",
        "    ax.spines['right'].set_visible(False)\n",
        "    ax.spines['left'].set_visible(False)\n",
        "    ax.spines['bottom'].set_visible(False)\n",
        "    ax.tick_params(axis='both', length=0)\n",
        "    ax.set_xticklabels('')\n",
        "    ax.set_yticklabels('')\n",
        "\n",
        "    return ax\n",
        "\n",
        "\n",
        "def view_recon(img, recon):\n",
        "    ''' Function for displaying an image (as a PyTorch Tensor) and its\n",
        "        reconstruction also a PyTorch Tensor\n",
        "    '''\n",
        "\n",
        "    fig, axes = plt.subplots(ncols=2, sharex=True, sharey=True)\n",
        "    axes[0].imshow(img.numpy().squeeze())\n",
        "    axes[1].imshow(recon.data.numpy().squeeze())\n",
        "    for ax in axes:\n",
        "        ax.axis('off')\n",
        "        ax.set_adjustable('box-forced')\n",
        "\n",
        "def view_classify(img, ps, version=\"MNIST\"):\n",
        "    ''' Function for viewing an image and it's predicted classes.\n",
        "    '''\n",
        "    ps = ps.data.numpy().squeeze()\n",
        "\n",
        "    fig, (ax1, ax2) = plt.subplots(figsize=(6,9), ncols=2)\n",
        "    ax1.imshow(img.resize_(1, 28, 28).numpy().squeeze())\n",
        "    ax1.axis('off')\n",
        "    ax2.barh(np.arange(10), ps)\n",
        "    ax2.set_aspect(0.1)\n",
        "    ax2.set_yticks(np.arange(10))\n",
        "    if version == \"MNIST\":\n",
        "        ax2.set_yticklabels(np.arange(10))\n",
        "    elif version == \"Fashion\":\n",
        "        ax2.set_yticklabels(['T-shirt/top',\n",
        "                            'Trouser',\n",
        "                            'Pullover',\n",
        "                            'Dress',\n",
        "                            'Coat',\n",
        "                            'Sandal',\n",
        "                            'Shirt',\n",
        "                            'Sneaker',\n",
        "                            'Bag',\n",
        "                            'Ankle Boot'], size='small');\n",
        "    ax2.set_title('Class Probability')\n",
        "    ax2.set_xlim(0, 1.1)\n",
        "\n",
        "    plt.tight_layout()\n"
      ],
      "execution_count": 5,
      "outputs": []
    },
    {
      "cell_type": "code",
      "metadata": {
        "id": "WtnbFTLQP-kF",
        "outputId": "210c619a-c3d7-49af-fcf6-2d878659b2d3",
        "colab": {
          "base_uri": "https://localhost:8080/",
          "height": 248
        }
      },
      "source": [
        "image, label = next(iter(trainloader))\n",
        "\n",
        "imshow(image[0,:]);\n"
      ],
      "execution_count": 6,
      "outputs": [
        {
          "output_type": "display_data",
          "data": {
            "image/png": "[encoded data removed]",
            "text/plain": [
              "<Figure size 432x288 with 1 Axes>"
            ]
          },
          "metadata": {
            "tags": [],
            "needs_background": "light"
          }
        }
      ]
    },
    {
      "cell_type": "markdown",
      "metadata": {
        "id": "jvS1WuIgP-kF"
      },
      "source": [
        "## Building the network\n",
        "\n",
        "Here you should define your network. As with MNIST, each image is 28x28 which is a total of 784 pixels, and there are 10 classes. You should include at least one hidden layer. We suggest you use ReLU activations for the layers and to return the logits or log-softmax from the forward pass. It's up to you how many layers you add and the size of those layers."
      ]
    },
    {
      "cell_type": "code",
      "metadata": {
        "id": "k8tTxIayP-kG"
      },
      "source": [
        "# TODO: Define your network architecture here\n",
        "model = nn.Sequential(nn.Linear(784,256),\n",
        "                      nn.ReLU(),\n",
        "                      nn.Linear(256,128),\n",
        "                      nn.ReLU(),\n",
        "                      nn.Linear(128,64),\n",
        "                      nn.ReLU(),\n",
        "                      nn.Linear(64,10),\n",
        "                      nn.LogSoftmax(dim=1))"
      ],
      "execution_count": 7,
      "outputs": []
    },
    {
      "cell_type": "markdown",
      "metadata": {
        "id": "R3M1eut-P-kG"
      },
      "source": [
        "# Train the network\n",
        "\n",
        "Now you should create your network and train it. First you'll want to define [the criterion](http://pytorch.org/docs/master/nn.html#loss-functions) ( something like `nn.CrossEntropyLoss`) and [the optimizer](http://pytorch.org/docs/master/optim.html) (typically `optim.SGD` or `optim.Adam`).\n",
        "\n",
        "Then write the training code. Remember the training pass is a fairly straightforward process:\n",
        "\n",
        "* Make a forward pass through the network to get the logits \n",
        "* Use the logits to calculate the loss\n",
        "* Perform a backward pass through the network with `loss.backward()` to calculate the gradients\n",
        "* Take a step with the optimizer to update the weights\n",
        "\n",
        "By adjusting the hyperparameters (hidden units, learning rate, etc), you should be able to get the training loss below 0.4."
      ]
    },
    {
      "cell_type": "code",
      "metadata": {
        "id": "4CbvqWgzP-kG"
      },
      "source": [
        "# TODO: Create the network, define the criterion and optimizer\n",
        "\n",
        "criterion = nn.NLLLoss()\n",
        "optimizer = optim.Adam(model.parameters(),lr=0.003)"
      ],
      "execution_count": 8,
      "outputs": []
    },
    {
      "cell_type": "code",
      "metadata": {
        "id": "R39MjAyGP-kH",
        "outputId": "f04e16eb-c8b2-473e-9d96-48a9218dc643",
        "colab": {
          "base_uri": "https://localhost:8080/"
        }
      },
      "source": [
        "# TODO: Train the network here\n",
        "epochs = 100\n",
        "for e in range(epochs):\n",
        "  running_loss = 0\n",
        "  for images,labels in trainloader:\n",
        "    \n",
        "    #flatten image\n",
        "    images = images.view(images.shape[0], -1)\n",
        "\n",
        "    #set gradient to zero after every step \n",
        "    optimizer.zero_grad()\n",
        "\n",
        "    #pass\n",
        "    output = model(images)\n",
        "    loss = criterion(output,labels)\n",
        "    loss.backward()\n",
        "    optimizer.step()\n",
        "    running_loss += loss.item()\n",
        "  else:\n",
        "    print(f\"training loss {e} : {running_loss}\")\n"
      ],
      "execution_count": 9,
      "outputs": [
        {
          "output_type": "stream",
          "text": [
            "training loss 0 : 482.97654278576374\n",
            "training loss 1 : 367.17019763588905\n",
            "training loss 2 : 332.46425664424896\n",
            "training loss 3 : 312.6696743518114\n",
            "training loss 4 : 293.43336206674576\n",
            "training loss 5 : 284.99635391682386\n",
            "training loss 6 : 273.80726804584265\n",
            "training loss 7 : 264.9600524008274\n",
            "training loss 8 : 257.1487401276827\n",
            "training loss 9 : 252.04724813252687\n",
            "training loss 10 : 244.03110717236996\n",
            "training loss 11 : 235.30037198215723\n",
            "training loss 12 : 229.4637809470296\n",
            "training loss 13 : 229.3218902796507\n",
            "training loss 14 : 225.00833147764206\n",
            "training loss 15 : 216.97090630978346\n",
            "training loss 16 : 217.3671926036477\n",
            "training loss 17 : 208.8503193333745\n",
            "training loss 18 : 206.58390627987683\n",
            "training loss 19 : 199.27405251190066\n",
            "training loss 20 : 199.23290929943323\n",
            "training loss 21 : 190.8685465492308\n",
            "training loss 22 : 199.02348595112562\n",
            "training loss 23 : 185.91813084855676\n",
            "training loss 24 : 186.11248852312565\n",
            "training loss 25 : 180.8899383470416\n",
            "training loss 26 : 186.65874673239887\n",
            "training loss 27 : 178.72484458610415\n",
            "training loss 28 : 171.00771251134574\n",
            "training loss 29 : 178.21625412255526\n",
            "training loss 30 : 171.06280840747058\n",
            "training loss 31 : 161.73536987043917\n",
            "training loss 32 : 166.54500913061202\n",
            "training loss 33 : 157.54652218148112\n",
            "training loss 34 : 163.1250022603199\n",
            "training loss 35 : 158.86677748151124\n",
            "training loss 36 : 160.31061460077763\n",
            "training loss 37 : 157.9546157438308\n",
            "training loss 38 : 159.29811266064644\n",
            "training loss 39 : 150.24176888726652\n",
            "training loss 40 : 151.8341190647334\n",
            "training loss 41 : 152.9552774708718\n",
            "training loss 42 : 145.67594737559557\n",
            "training loss 43 : 141.2840255210176\n",
            "training loss 44 : 146.05153464339674\n",
            "training loss 45 : 144.52605659142137\n",
            "training loss 46 : 136.58499979041517\n",
            "training loss 47 : 143.54024446196854\n",
            "training loss 48 : 131.18355020694435\n",
            "training loss 49 : 143.13374683074653\n",
            "training loss 50 : 135.40421707183123\n",
            "training loss 51 : 138.30342008080333\n",
            "training loss 52 : 128.3231981471181\n",
            "training loss 53 : 137.5453761620447\n",
            "training loss 54 : 135.7980084354058\n",
            "training loss 55 : 122.6006789393723\n",
            "training loss 56 : 128.75574711803347\n",
            "training loss 57 : 126.57327846763656\n",
            "training loss 58 : 131.90018311608583\n",
            "training loss 59 : 117.89513222593814\n",
            "training loss 60 : 129.9946895232424\n",
            "training loss 61 : 118.53352204617113\n",
            "training loss 62 : 129.43531592004\n",
            "training loss 63 : 117.14173014136031\n",
            "training loss 64 : 131.83198222727515\n",
            "training loss 65 : 107.45975524093956\n",
            "training loss 66 : 114.26842657569796\n",
            "training loss 67 : 123.53991404175758\n",
            "training loss 68 : 116.98184104450047\n",
            "training loss 69 : 122.02603777311742\n",
            "training loss 70 : 110.66689202422276\n",
            "training loss 71 : 111.26067058648914\n",
            "training loss 72 : 109.39376560179517\n",
            "training loss 73 : 119.46701466687955\n",
            "training loss 74 : 108.84037899924442\n",
            "training loss 75 : 114.12943498999812\n",
            "training loss 76 : 114.40026261750609\n",
            "training loss 77 : 108.71695602498949\n",
            "training loss 78 : 102.2295866413042\n",
            "training loss 79 : 114.80526828859001\n",
            "training loss 80 : 99.96621906920336\n",
            "training loss 81 : 111.51492881495506\n",
            "training loss 82 : 107.46577727049589\n",
            "training loss 83 : 104.66064680367708\n",
            "training loss 84 : 104.49790768604726\n",
            "training loss 85 : 110.58621382992715\n",
            "training loss 86 : 122.05233263876289\n",
            "training loss 87 : 96.19255012110807\n",
            "training loss 88 : 103.39014739356935\n",
            "training loss 89 : 111.60289365146309\n",
            "training loss 90 : 110.78336656047031\n",
            "training loss 91 : 106.52774820523337\n",
            "training loss 92 : 90.95470425509848\n",
            "training loss 93 : 108.7773922001943\n",
            "training loss 94 : 100.19178695883602\n",
            "training loss 95 : 90.99783597001806\n",
            "training loss 96 : 107.87602658721153\n",
            "training loss 97 : 98.11607651365921\n",
            "training loss 98 : 93.55367854377255\n",
            "training loss 99 : 89.64484946336597\n"
          ],
          "name": "stdout"
        }
      ]
    },
    {
      "cell_type": "code",
      "metadata": {
        "id": "TXlLnmUM1Urh"
      },
      "source": [
        ""
      ],
      "execution_count": 9,
      "outputs": []
    },
    {
      "cell_type": "code",
      "metadata": {
        "id": "He90q8hNP-kH",
        "outputId": "c3572133-289a-4c47-9a92-e665756a0c8e",
        "colab": {
          "base_uri": "https://localhost:8080/",
          "height": 233
        }
      },
      "source": [
        "%matplotlib inline\n",
        "%config InlineBackend.figure_format = 'retina'\n",
        "\n",
        "import helper\n",
        "\n",
        "# Test out your network!\n",
        "\n",
        "dataiter = iter(testloader)\n",
        "images, labels = dataiter.next()\n",
        "img = images[0]\n",
        "# Convert 2D image to 1D vector\n",
        "img = img.resize_(1, 784)\n",
        "\n",
        "# TODO: Calculate the class probabilities (softmax) for img\n",
        "ps = torch.exp(model(img))\n",
        "\n",
        "# Plot the image and probabilities\n",
        "view_classify(img.resize_(1, 28, 28), ps, version='Fashion')"
      ],
      "execution_count": 23,
      "outputs": [
        {
          "output_type": "display_data",
          "data": {
            "image/png": "[encoded data removed]",
            "text/plain": [
              "<Figure size 432x648 with 2 Axes>"
            ]
          },
          "metadata": {
            "tags": [],
            "image/png": {
              "width": 424,
              "height": 216
            },
            "needs_background": "light"
          }
        }
      ]
    },
    {
      "cell_type": "code",
      "metadata": {
        "id": "RMvJc1Gh5SBo"
      },
      "source": [
        ""
      ],
      "execution_count": 22,
      "outputs": []
    }
  ]
}